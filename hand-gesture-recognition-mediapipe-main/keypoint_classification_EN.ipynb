{
  "cells": [
    {
      "cell_type": "code",
      "execution_count": 1,
      "metadata": {
        "id": "igMyGnjE9hEp"
      },
      "outputs": [],
      "source": [
        "import csv\n",
        "\n",
        "import numpy as np\n",
        "import tensorflow as tf\n",
        "from sklearn.model_selection import train_test_split\n",
        "\n",
        "RANDOM_SEED = 42"
      ]
    },
    {
      "cell_type": "markdown",
      "metadata": {
        "id": "t2HDvhIu9hEr"
      },
      "source": [
        "# Specify each path"
      ]
    },
    {
      "cell_type": "code",
      "execution_count": 2,
      "metadata": {
        "id": "9NvZP2Zn9hEy"
      },
      "outputs": [],
      "source": [
        "dataset = 'model/keypoint_classifier/keypoint.csv'\n",
        "model_save_path = 'model/keypoint_classifier/keypoint_classifier.hdf5'\n",
        "tflite_save_path = 'model/keypoint_classifier/keypoint_classifier.tflite'"
      ]
    },
    {
      "cell_type": "markdown",
      "metadata": {
        "id": "s5oMH7x19hEz"
      },
      "source": [
        "# Set number of classes"
      ]
    },
    {
      "cell_type": "code",
      "execution_count": 3,
      "metadata": {
        "id": "du4kodXL9hEz"
      },
      "outputs": [],
      "source": [
        "NUM_CLASSES = 26"
      ]
    },
    {
      "cell_type": "markdown",
      "metadata": {
        "id": "XjnL0uso9hEz"
      },
      "source": [
        "# Dataset reading"
      ]
    },
    {
      "cell_type": "code",
      "execution_count": 4,
      "metadata": {
        "id": "QT5ZqtEz9hE0"
      },
      "outputs": [],
      "source": [
        "X_dataset = np.loadtxt(dataset, delimiter=',', dtype='float32', usecols=list(range(1, (21 * 2) + 1)))"
      ]
    },
    {
      "cell_type": "code",
      "execution_count": 5,
      "metadata": {
        "id": "QmoKFsp49hE0"
      },
      "outputs": [],
      "source": [
        "y_dataset = np.loadtxt(dataset, delimiter=',', dtype='int32', usecols=(0))"
      ]
    },
    {
      "cell_type": "code",
      "execution_count": 6,
      "metadata": {
        "id": "xQU7JTZ_9hE0"
      },
      "outputs": [],
      "source": [
        "X_train, X_test, y_train, y_test = train_test_split(X_dataset, y_dataset, train_size=0.75, random_state=RANDOM_SEED)"
      ]
    },
    {
      "cell_type": "markdown",
      "metadata": {
        "id": "mxK_lETT9hE0"
      },
      "source": [
        "# Model building"
      ]
    },
    {
      "cell_type": "code",
      "execution_count": 7,
      "metadata": {
        "id": "vHBmUf1t9hE1"
      },
      "outputs": [],
      "source": [
        "model = tf.keras.models.Sequential([\n",
        "    tf.keras.layers.Input((21 * 2, )),\n",
        "    tf.keras.layers.Dropout(0.2),\n",
        "    tf.keras.layers.Dense(20, activation='relu'),\n",
        "    tf.keras.layers.Dropout(0.4),\n",
        "    tf.keras.layers.Dense(10, activation='relu'),\n",
        "    tf.keras.layers.Dense(NUM_CLASSES, activation='softmax')\n",
        "])"
      ]
    },
    {
      "cell_type": "code",
      "execution_count": 8,
      "metadata": {
        "colab": {
          "base_uri": "https://localhost:8080/"
        },
        "id": "ypqky9tc9hE1",
        "outputId": "5db082bb-30e3-4110-bf63-a1ee777ecd46"
      },
      "outputs": [
        {
          "name": "stdout",
          "output_type": "stream",
          "text": [
            "Model: \"sequential\"\n",
            "_________________________________________________________________\n",
            " Layer (type)                Output Shape              Param #   \n",
            "=================================================================\n",
            " dropout (Dropout)           (None, 42)                0         \n",
            "                                                                 \n",
            " dense (Dense)               (None, 20)                860       \n",
            "                                                                 \n",
            " dropout_1 (Dropout)         (None, 20)                0         \n",
            "                                                                 \n",
            " dense_1 (Dense)             (None, 10)                210       \n",
            "                                                                 \n",
            " dense_2 (Dense)             (None, 26)                286       \n",
            "                                                                 \n",
            "=================================================================\n",
            "Total params: 1,356\n",
            "Trainable params: 1,356\n",
            "Non-trainable params: 0\n",
            "_________________________________________________________________\n"
          ]
        }
      ],
      "source": [
        "model.summary()  # tf.keras.utils.plot_model(model, show_shapes=True)"
      ]
    },
    {
      "cell_type": "code",
      "execution_count": 9,
      "metadata": {
        "id": "MbMjOflQ9hE1"
      },
      "outputs": [],
      "source": [
        "# Model checkpoint callback\n",
        "cp_callback = tf.keras.callbacks.ModelCheckpoint(\n",
        "    model_save_path, verbose=1, save_weights_only=False)\n",
        "# Callback for early stopping\n",
        "es_callback = tf.keras.callbacks.EarlyStopping(patience=20, verbose=1)"
      ]
    },
    {
      "cell_type": "code",
      "execution_count": 10,
      "metadata": {
        "id": "c3Dac0M_9hE2"
      },
      "outputs": [],
      "source": [
        "# Model compilation\n",
        "model.compile(\n",
        "    optimizer='adam',\n",
        "    loss='sparse_categorical_crossentropy',\n",
        "    metrics=['accuracy']\n",
        ")"
      ]
    },
    {
      "cell_type": "markdown",
      "metadata": {
        "id": "7XI0j1Iu9hE2"
      },
      "source": [
        "# Model training"
      ]
    },
    {
      "cell_type": "code",
      "execution_count": 11,
      "metadata": {
        "colab": {
          "base_uri": "https://localhost:8080/"
        },
        "id": "WirBl-JE9hE3",
        "outputId": "71b30ca2-8294-4d9d-8aa2-800d90d399de",
        "scrolled": true
      },
      "outputs": [
        {
          "name": "stdout",
          "output_type": "stream",
          "text": [
            "Epoch 1/1000\n",
            "108/129 [========================>.....] - ETA: 0s - loss: 3.1512 - accuracy: 0.0642\n",
            "Epoch 1: saving model to model/keypoint_classifier\\keypoint_classifier.hdf5\n",
            "129/129 [==============================] - 1s 5ms/step - loss: 3.1266 - accuracy: 0.0725 - val_loss: 2.9089 - val_accuracy: 0.1228\n",
            "Epoch 2/1000\n",
            "117/129 [==========================>...] - ETA: 0s - loss: 2.8518 - accuracy: 0.1442\n",
            "Epoch 2: saving model to model/keypoint_classifier\\keypoint_classifier.hdf5\n",
            "129/129 [==============================] - 0s 4ms/step - loss: 2.8398 - accuracy: 0.1480 - val_loss: 2.5468 - val_accuracy: 0.2441\n",
            "Epoch 3/1000\n",
            "127/129 [============================>.] - ETA: 0s - loss: 2.6132 - accuracy: 0.1918\n",
            "Epoch 3: saving model to model/keypoint_classifier\\keypoint_classifier.hdf5\n",
            "129/129 [==============================] - 0s 3ms/step - loss: 2.6120 - accuracy: 0.1920 - val_loss: 2.2544 - val_accuracy: 0.3651\n",
            "Epoch 4/1000\n",
            "111/129 [========================>.....] - ETA: 0s - loss: 2.4514 - accuracy: 0.2176\n",
            "Epoch 4: saving model to model/keypoint_classifier\\keypoint_classifier.hdf5\n",
            "129/129 [==============================] - 0s 3ms/step - loss: 2.4386 - accuracy: 0.2199 - val_loss: 2.0369 - val_accuracy: 0.3831\n",
            "Epoch 5/1000\n",
            "114/129 [=========================>....] - ETA: 0s - loss: 2.3079 - accuracy: 0.2481\n",
            "Epoch 5: saving model to model/keypoint_classifier\\keypoint_classifier.hdf5\n",
            "129/129 [==============================] - 0s 3ms/step - loss: 2.3047 - accuracy: 0.2495 - val_loss: 1.8866 - val_accuracy: 0.4932\n",
            "Epoch 6/1000\n",
            "121/129 [===========================>..] - ETA: 0s - loss: 2.2225 - accuracy: 0.2738\n",
            "Epoch 6: saving model to model/keypoint_classifier\\keypoint_classifier.hdf5\n",
            "129/129 [==============================] - 0s 3ms/step - loss: 2.2220 - accuracy: 0.2738 - val_loss: 1.7986 - val_accuracy: 0.4935\n",
            "Epoch 7/1000\n",
            "115/129 [=========================>....] - ETA: 0s - loss: 2.1699 - accuracy: 0.2858\n",
            "Epoch 7: saving model to model/keypoint_classifier\\keypoint_classifier.hdf5\n",
            "129/129 [==============================] - 0s 3ms/step - loss: 2.1650 - accuracy: 0.2860 - val_loss: 1.7319 - val_accuracy: 0.5256\n",
            "Epoch 8/1000\n",
            "120/129 [==========================>...] - ETA: 0s - loss: 2.1140 - accuracy: 0.2969\n",
            "Epoch 8: saving model to model/keypoint_classifier\\keypoint_classifier.hdf5\n",
            "129/129 [==============================] - 0s 3ms/step - loss: 2.1138 - accuracy: 0.2985 - val_loss: 1.6627 - val_accuracy: 0.5250\n",
            "Epoch 9/1000\n",
            "110/129 [========================>.....] - ETA: 0s - loss: 2.0643 - accuracy: 0.3219\n",
            "Epoch 9: saving model to model/keypoint_classifier\\keypoint_classifier.hdf5\n",
            "129/129 [==============================] - 0s 3ms/step - loss: 2.0591 - accuracy: 0.3219 - val_loss: 1.6013 - val_accuracy: 0.5519\n",
            "Epoch 10/1000\n",
            "105/129 [=======================>......] - ETA: 0s - loss: 2.0313 - accuracy: 0.3279\n",
            "Epoch 10: saving model to model/keypoint_classifier\\keypoint_classifier.hdf5\n",
            "129/129 [==============================] - 0s 3ms/step - loss: 2.0285 - accuracy: 0.3282 - val_loss: 1.5526 - val_accuracy: 0.5376\n",
            "Epoch 11/1000\n",
            "123/129 [===========================>..] - ETA: 0s - loss: 1.9987 - accuracy: 0.3363\n",
            "Epoch 11: saving model to model/keypoint_classifier\\keypoint_classifier.hdf5\n",
            "129/129 [==============================] - 0s 3ms/step - loss: 1.9978 - accuracy: 0.3362 - val_loss: 1.5022 - val_accuracy: 0.5605\n",
            "Epoch 12/1000\n",
            "125/129 [============================>.] - ETA: 0s - loss: 1.9641 - accuracy: 0.3472\n",
            "Epoch 12: saving model to model/keypoint_classifier\\keypoint_classifier.hdf5\n",
            "129/129 [==============================] - 0s 3ms/step - loss: 1.9627 - accuracy: 0.3483 - val_loss: 1.4570 - val_accuracy: 0.5876\n",
            "Epoch 13/1000\n",
            "128/129 [============================>.] - ETA: 0s - loss: 1.9257 - accuracy: 0.3598\n",
            "Epoch 13: saving model to model/keypoint_classifier\\keypoint_classifier.hdf5\n",
            "129/129 [==============================] - 0s 3ms/step - loss: 1.9248 - accuracy: 0.3603 - val_loss: 1.4192 - val_accuracy: 0.5750\n",
            "Epoch 14/1000\n",
            "112/129 [=========================>....] - ETA: 0s - loss: 1.9037 - accuracy: 0.3645\n",
            "Epoch 14: saving model to model/keypoint_classifier\\keypoint_classifier.hdf5\n",
            "129/129 [==============================] - 0s 3ms/step - loss: 1.9013 - accuracy: 0.3654 - val_loss: 1.3864 - val_accuracy: 0.5969\n",
            "Epoch 15/1000\n",
            "121/129 [===========================>..] - ETA: 0s - loss: 1.8985 - accuracy: 0.3700\n",
            "Epoch 15: saving model to model/keypoint_classifier\\keypoint_classifier.hdf5\n",
            "129/129 [==============================] - 0s 4ms/step - loss: 1.8979 - accuracy: 0.3689 - val_loss: 1.3692 - val_accuracy: 0.5920\n",
            "Epoch 16/1000\n",
            "112/129 [=========================>....] - ETA: 0s - loss: 1.8806 - accuracy: 0.3730\n",
            "Epoch 16: saving model to model/keypoint_classifier\\keypoint_classifier.hdf5\n",
            "129/129 [==============================] - 0s 3ms/step - loss: 1.8790 - accuracy: 0.3741 - val_loss: 1.3457 - val_accuracy: 0.6078\n",
            "Epoch 17/1000\n",
            "124/129 [===========================>..] - ETA: 0s - loss: 1.8464 - accuracy: 0.3800\n",
            "Epoch 17: saving model to model/keypoint_classifier\\keypoint_classifier.hdf5\n",
            "129/129 [==============================] - 0s 4ms/step - loss: 1.8472 - accuracy: 0.3797 - val_loss: 1.3260 - val_accuracy: 0.5980\n",
            "Epoch 18/1000\n",
            "120/129 [==========================>...] - ETA: 0s - loss: 1.8391 - accuracy: 0.3878\n",
            "Epoch 18: saving model to model/keypoint_classifier\\keypoint_classifier.hdf5\n",
            "129/129 [==============================] - 0s 3ms/step - loss: 1.8356 - accuracy: 0.3902 - val_loss: 1.3052 - val_accuracy: 0.6163\n",
            "Epoch 19/1000\n",
            "104/129 [=======================>......] - ETA: 0s - loss: 1.8272 - accuracy: 0.3924\n",
            "Epoch 19: saving model to model/keypoint_classifier\\keypoint_classifier.hdf5\n",
            "129/129 [==============================] - 0s 3ms/step - loss: 1.8203 - accuracy: 0.3926 - val_loss: 1.2793 - val_accuracy: 0.6267\n",
            "Epoch 20/1000\n",
            "129/129 [==============================] - ETA: 0s - loss: 1.8019 - accuracy: 0.3985\n",
            "Epoch 20: saving model to model/keypoint_classifier\\keypoint_classifier.hdf5\n",
            "129/129 [==============================] - 0s 3ms/step - loss: 1.8019 - accuracy: 0.3985 - val_loss: 1.2631 - val_accuracy: 0.6416\n",
            "Epoch 21/1000\n",
            "108/129 [========================>.....] - ETA: 0s - loss: 1.7835 - accuracy: 0.4030\n",
            "Epoch 21: saving model to model/keypoint_classifier\\keypoint_classifier.hdf5\n",
            "129/129 [==============================] - 0s 3ms/step - loss: 1.7853 - accuracy: 0.4002 - val_loss: 1.2566 - val_accuracy: 0.6331\n",
            "Epoch 22/1000\n",
            "116/129 [=========================>....] - ETA: 0s - loss: 1.7726 - accuracy: 0.4073\n",
            "Epoch 22: saving model to model/keypoint_classifier\\keypoint_classifier.hdf5\n",
            "129/129 [==============================] - 0s 4ms/step - loss: 1.7707 - accuracy: 0.4088 - val_loss: 1.2428 - val_accuracy: 0.6340\n",
            "Epoch 23/1000\n",
            "111/129 [========================>.....] - ETA: 0s - loss: 1.7839 - accuracy: 0.4036\n",
            "Epoch 23: saving model to model/keypoint_classifier\\keypoint_classifier.hdf5\n",
            "129/129 [==============================] - 0s 3ms/step - loss: 1.7821 - accuracy: 0.4070 - val_loss: 1.2286 - val_accuracy: 0.6283\n",
            "Epoch 24/1000\n",
            "127/129 [============================>.] - ETA: 0s - loss: 1.7636 - accuracy: 0.4058\n",
            "Epoch 24: saving model to model/keypoint_classifier\\keypoint_classifier.hdf5\n",
            "129/129 [==============================] - 0s 3ms/step - loss: 1.7621 - accuracy: 0.4056 - val_loss: 1.2176 - val_accuracy: 0.6380\n",
            "Epoch 25/1000\n",
            "103/129 [======================>.......] - ETA: 0s - loss: 1.7679 - accuracy: 0.4067\n",
            "Epoch 25: saving model to model/keypoint_classifier\\keypoint_classifier.hdf5\n",
            "129/129 [==============================] - 0s 3ms/step - loss: 1.7674 - accuracy: 0.4100 - val_loss: 1.2145 - val_accuracy: 0.6467\n",
            "Epoch 26/1000\n",
            "103/129 [======================>.......] - ETA: 0s - loss: 1.7570 - accuracy: 0.4147\n",
            "Epoch 26: saving model to model/keypoint_classifier\\keypoint_classifier.hdf5\n",
            "129/129 [==============================] - 0s 3ms/step - loss: 1.7542 - accuracy: 0.4175 - val_loss: 1.1964 - val_accuracy: 0.6498\n",
            "Epoch 27/1000\n",
            "116/129 [=========================>....] - ETA: 0s - loss: 1.7304 - accuracy: 0.4205\n",
            "Epoch 27: saving model to model/keypoint_classifier\\keypoint_classifier.hdf5\n",
            "129/129 [==============================] - 0s 3ms/step - loss: 1.7315 - accuracy: 0.4194 - val_loss: 1.1814 - val_accuracy: 0.6473\n",
            "Epoch 28/1000\n",
            "124/129 [===========================>..] - ETA: 0s - loss: 1.7369 - accuracy: 0.4151\n",
            "Epoch 28: saving model to model/keypoint_classifier\\keypoint_classifier.hdf5\n",
            "129/129 [==============================] - 0s 3ms/step - loss: 1.7381 - accuracy: 0.4150 - val_loss: 1.1879 - val_accuracy: 0.6534\n",
            "Epoch 29/1000\n",
            "119/129 [==========================>...] - ETA: 0s - loss: 1.7385 - accuracy: 0.4236\n",
            "Epoch 29: saving model to model/keypoint_classifier\\keypoint_classifier.hdf5\n",
            "129/129 [==============================] - 0s 3ms/step - loss: 1.7338 - accuracy: 0.4245 - val_loss: 1.1670 - val_accuracy: 0.6580\n",
            "Epoch 30/1000\n",
            "119/129 [==========================>...] - ETA: 0s - loss: 1.7080 - accuracy: 0.4252\n",
            "Epoch 30: saving model to model/keypoint_classifier\\keypoint_classifier.hdf5\n",
            "129/129 [==============================] - 0s 3ms/step - loss: 1.7093 - accuracy: 0.4251 - val_loss: 1.1586 - val_accuracy: 0.6502\n",
            "Epoch 31/1000\n",
            "119/129 [==========================>...] - ETA: 0s - loss: 1.7152 - accuracy: 0.4220\n",
            "Epoch 31: saving model to model/keypoint_classifier\\keypoint_classifier.hdf5\n",
            "129/129 [==============================] - 0s 3ms/step - loss: 1.7112 - accuracy: 0.4248 - val_loss: 1.1560 - val_accuracy: 0.6502\n",
            "Epoch 32/1000\n",
            "113/129 [=========================>....] - ETA: 0s - loss: 1.6994 - accuracy: 0.4304\n",
            "Epoch 32: saving model to model/keypoint_classifier\\keypoint_classifier.hdf5\n",
            "129/129 [==============================] - 0s 3ms/step - loss: 1.7025 - accuracy: 0.4299 - val_loss: 1.1459 - val_accuracy: 0.6573\n",
            "Epoch 33/1000\n",
            "105/129 [=======================>......] - ETA: 0s - loss: 1.6965 - accuracy: 0.4311\n",
            "Epoch 33: saving model to model/keypoint_classifier\\keypoint_classifier.hdf5\n",
            "129/129 [==============================] - 0s 3ms/step - loss: 1.6881 - accuracy: 0.4342 - val_loss: 1.1294 - val_accuracy: 0.6638\n",
            "Epoch 34/1000\n",
            "110/129 [========================>.....] - ETA: 0s - loss: 1.6956 - accuracy: 0.4326\n",
            "Epoch 34: saving model to model/keypoint_classifier\\keypoint_classifier.hdf5\n",
            "129/129 [==============================] - 0s 3ms/step - loss: 1.6998 - accuracy: 0.4313 - val_loss: 1.1388 - val_accuracy: 0.6669\n",
            "Epoch 35/1000\n",
            "111/129 [========================>.....] - ETA: 0s - loss: 1.7027 - accuracy: 0.4355\n",
            "Epoch 35: saving model to model/keypoint_classifier\\keypoint_classifier.hdf5\n",
            "129/129 [==============================] - 0s 3ms/step - loss: 1.7056 - accuracy: 0.4330 - val_loss: 1.1414 - val_accuracy: 0.6691\n",
            "Epoch 36/1000\n",
            "125/129 [============================>.] - ETA: 0s - loss: 1.6810 - accuracy: 0.4389\n",
            "Epoch 36: saving model to model/keypoint_classifier\\keypoint_classifier.hdf5\n",
            "129/129 [==============================] - 0s 3ms/step - loss: 1.6792 - accuracy: 0.4395 - val_loss: 1.1302 - val_accuracy: 0.6618\n",
            "Epoch 37/1000\n",
            "125/129 [============================>.] - ETA: 0s - loss: 1.6687 - accuracy: 0.4372\n",
            "Epoch 37: saving model to model/keypoint_classifier\\keypoint_classifier.hdf5\n",
            "129/129 [==============================] - 0s 3ms/step - loss: 1.6677 - accuracy: 0.4372 - val_loss: 1.1223 - val_accuracy: 0.6740\n",
            "Epoch 38/1000\n",
            "119/129 [==========================>...] - ETA: 0s - loss: 1.6690 - accuracy: 0.4466\n",
            "Epoch 38: saving model to model/keypoint_classifier\\keypoint_classifier.hdf5\n",
            "129/129 [==============================] - 0s 3ms/step - loss: 1.6671 - accuracy: 0.4482 - val_loss: 1.1201 - val_accuracy: 0.6760\n",
            "Epoch 39/1000\n",
            "125/129 [============================>.] - ETA: 0s - loss: 1.6805 - accuracy: 0.4406\n",
            "Epoch 39: saving model to model/keypoint_classifier\\keypoint_classifier.hdf5\n",
            "129/129 [==============================] - 0s 3ms/step - loss: 1.6796 - accuracy: 0.4408 - val_loss: 1.1326 - val_accuracy: 0.6487\n",
            "Epoch 40/1000\n",
            "111/129 [========================>.....] - ETA: 0s - loss: 1.6628 - accuracy: 0.4433\n",
            "Epoch 40: saving model to model/keypoint_classifier\\keypoint_classifier.hdf5\n",
            "129/129 [==============================] - 0s 3ms/step - loss: 1.6620 - accuracy: 0.4438 - val_loss: 1.1027 - val_accuracy: 0.6856\n",
            "Epoch 41/1000\n",
            "124/129 [===========================>..] - ETA: 0s - loss: 1.6597 - accuracy: 0.4442\n",
            "Epoch 41: saving model to model/keypoint_classifier\\keypoint_classifier.hdf5\n",
            "129/129 [==============================] - 0s 3ms/step - loss: 1.6618 - accuracy: 0.4432 - val_loss: 1.1012 - val_accuracy: 0.6858\n",
            "Epoch 42/1000\n",
            "111/129 [========================>.....] - ETA: 0s - loss: 1.6536 - accuracy: 0.4460\n",
            "Epoch 42: saving model to model/keypoint_classifier\\keypoint_classifier.hdf5\n",
            "129/129 [==============================] - 0s 3ms/step - loss: 1.6470 - accuracy: 0.4465 - val_loss: 1.0922 - val_accuracy: 0.6867\n",
            "Epoch 43/1000\n",
            "120/129 [==========================>...] - ETA: 0s - loss: 1.6528 - accuracy: 0.4486\n",
            "Epoch 43: saving model to model/keypoint_classifier\\keypoint_classifier.hdf5\n",
            "129/129 [==============================] - 0s 3ms/step - loss: 1.6525 - accuracy: 0.4475 - val_loss: 1.0881 - val_accuracy: 0.6931\n",
            "Epoch 44/1000\n",
            "121/129 [===========================>..] - ETA: 0s - loss: 1.6461 - accuracy: 0.4463\n",
            "Epoch 44: saving model to model/keypoint_classifier\\keypoint_classifier.hdf5\n",
            "129/129 [==============================] - 0s 3ms/step - loss: 1.6450 - accuracy: 0.4463 - val_loss: 1.0824 - val_accuracy: 0.6784\n",
            "Epoch 45/1000\n",
            "111/129 [========================>.....] - ETA: 0s - loss: 1.6465 - accuracy: 0.4461\n",
            "Epoch 45: saving model to model/keypoint_classifier\\keypoint_classifier.hdf5\n",
            "129/129 [==============================] - 0s 3ms/step - loss: 1.6431 - accuracy: 0.4474 - val_loss: 1.0821 - val_accuracy: 0.6824\n",
            "Epoch 46/1000\n",
            "113/129 [=========================>....] - ETA: 0s - loss: 1.6221 - accuracy: 0.4480\n",
            "Epoch 46: saving model to model/keypoint_classifier\\keypoint_classifier.hdf5\n",
            "129/129 [==============================] - 0s 3ms/step - loss: 1.6203 - accuracy: 0.4505 - val_loss: 1.0757 - val_accuracy: 0.6913\n",
            "Epoch 47/1000\n",
            "120/129 [==========================>...] - ETA: 0s - loss: 1.6359 - accuracy: 0.4529\n",
            "Epoch 47: saving model to model/keypoint_classifier\\keypoint_classifier.hdf5\n",
            "129/129 [==============================] - 0s 3ms/step - loss: 1.6338 - accuracy: 0.4524 - val_loss: 1.0655 - val_accuracy: 0.6951\n",
            "Epoch 48/1000\n",
            "123/129 [===========================>..] - ETA: 0s - loss: 1.6377 - accuracy: 0.4562\n",
            "Epoch 48: saving model to model/keypoint_classifier\\keypoint_classifier.hdf5\n",
            "129/129 [==============================] - 0s 3ms/step - loss: 1.6354 - accuracy: 0.4568 - val_loss: 1.0714 - val_accuracy: 0.6997\n",
            "Epoch 49/1000\n",
            "123/129 [===========================>..] - ETA: 0s - loss: 1.6242 - accuracy: 0.4635\n",
            "Epoch 49: saving model to model/keypoint_classifier\\keypoint_classifier.hdf5\n",
            "129/129 [==============================] - 0s 3ms/step - loss: 1.6231 - accuracy: 0.4633 - val_loss: 1.0719 - val_accuracy: 0.7007\n",
            "Epoch 50/1000\n",
            "118/129 [==========================>...] - ETA: 0s - loss: 1.6148 - accuracy: 0.4582\n",
            "Epoch 50: saving model to model/keypoint_classifier\\keypoint_classifier.hdf5\n",
            "129/129 [==============================] - 0s 3ms/step - loss: 1.6165 - accuracy: 0.4600 - val_loss: 1.0749 - val_accuracy: 0.6816\n",
            "Epoch 51/1000\n",
            "120/129 [==========================>...] - ETA: 0s - loss: 1.6297 - accuracy: 0.4558\n",
            "Epoch 51: saving model to model/keypoint_classifier\\keypoint_classifier.hdf5\n",
            "129/129 [==============================] - 0s 3ms/step - loss: 1.6271 - accuracy: 0.4556 - val_loss: 1.0645 - val_accuracy: 0.6937\n",
            "Epoch 52/1000\n",
            "117/129 [==========================>...] - ETA: 0s - loss: 1.6086 - accuracy: 0.4610\n",
            "Epoch 52: saving model to model/keypoint_classifier\\keypoint_classifier.hdf5\n",
            "129/129 [==============================] - 0s 3ms/step - loss: 1.6102 - accuracy: 0.4607 - val_loss: 1.0586 - val_accuracy: 0.7047\n",
            "Epoch 53/1000\n",
            "111/129 [========================>.....] - ETA: 0s - loss: 1.6082 - accuracy: 0.4584\n",
            "Epoch 53: saving model to model/keypoint_classifier\\keypoint_classifier.hdf5\n",
            "129/129 [==============================] - 0s 3ms/step - loss: 1.6169 - accuracy: 0.4573 - val_loss: 1.0549 - val_accuracy: 0.7109\n",
            "Epoch 54/1000\n",
            "126/129 [============================>.] - ETA: 0s - loss: 1.6182 - accuracy: 0.4551\n",
            "Epoch 54: saving model to model/keypoint_classifier\\keypoint_classifier.hdf5\n",
            "129/129 [==============================] - 0s 4ms/step - loss: 1.6184 - accuracy: 0.4554 - val_loss: 1.0470 - val_accuracy: 0.6993\n",
            "Epoch 55/1000\n",
            "123/129 [===========================>..] - ETA: 0s - loss: 1.6032 - accuracy: 0.4611\n",
            "Epoch 55: saving model to model/keypoint_classifier\\keypoint_classifier.hdf5\n",
            "129/129 [==============================] - 0s 4ms/step - loss: 1.6033 - accuracy: 0.4618 - val_loss: 1.0419 - val_accuracy: 0.7064\n",
            "Epoch 56/1000\n",
            "121/129 [===========================>..] - ETA: 0s - loss: 1.6035 - accuracy: 0.4538\n",
            "Epoch 56: saving model to model/keypoint_classifier\\keypoint_classifier.hdf5\n",
            "129/129 [==============================] - 0s 4ms/step - loss: 1.6031 - accuracy: 0.4550 - val_loss: 1.0700 - val_accuracy: 0.7009\n",
            "Epoch 57/1000\n",
            "123/129 [===========================>..] - ETA: 0s - loss: 1.5870 - accuracy: 0.4656\n",
            "Epoch 57: saving model to model/keypoint_classifier\\keypoint_classifier.hdf5\n",
            "129/129 [==============================] - 0s 3ms/step - loss: 1.5875 - accuracy: 0.4663 - val_loss: 1.0497 - val_accuracy: 0.7111\n",
            "Epoch 58/1000\n",
            "127/129 [============================>.] - ETA: 0s - loss: 1.5912 - accuracy: 0.4619\n",
            "Epoch 58: saving model to model/keypoint_classifier\\keypoint_classifier.hdf5\n",
            "129/129 [==============================] - 0s 3ms/step - loss: 1.5899 - accuracy: 0.4621 - val_loss: 1.0502 - val_accuracy: 0.7204\n",
            "Epoch 59/1000\n",
            "121/129 [===========================>..] - ETA: 0s - loss: 1.5856 - accuracy: 0.4720\n",
            "Epoch 59: saving model to model/keypoint_classifier\\keypoint_classifier.hdf5\n",
            "129/129 [==============================] - 0s 3ms/step - loss: 1.5860 - accuracy: 0.4709 - val_loss: 1.0367 - val_accuracy: 0.7084\n",
            "Epoch 60/1000\n",
            "115/129 [=========================>....] - ETA: 0s - loss: 1.5717 - accuracy: 0.4743\n",
            "Epoch 60: saving model to model/keypoint_classifier\\keypoint_classifier.hdf5\n",
            "129/129 [==============================] - 0s 3ms/step - loss: 1.5788 - accuracy: 0.4724 - val_loss: 1.0558 - val_accuracy: 0.7111\n",
            "Epoch 61/1000\n",
            "110/129 [========================>.....] - ETA: 0s - loss: 1.5766 - accuracy: 0.4678\n",
            "Epoch 61: saving model to model/keypoint_classifier\\keypoint_classifier.hdf5\n",
            "129/129 [==============================] - 0s 3ms/step - loss: 1.5723 - accuracy: 0.4713 - val_loss: 1.0435 - val_accuracy: 0.7067\n",
            "Epoch 62/1000\n",
            "128/129 [============================>.] - ETA: 0s - loss: 1.5696 - accuracy: 0.4739\n",
            "Epoch 62: saving model to model/keypoint_classifier\\keypoint_classifier.hdf5\n",
            "129/129 [==============================] - 0s 3ms/step - loss: 1.5684 - accuracy: 0.4744 - val_loss: 1.0287 - val_accuracy: 0.7129\n",
            "Epoch 63/1000\n",
            "126/129 [============================>.] - ETA: 0s - loss: 1.5580 - accuracy: 0.4743\n",
            "Epoch 63: saving model to model/keypoint_classifier\\keypoint_classifier.hdf5\n",
            "129/129 [==============================] - 0s 3ms/step - loss: 1.5588 - accuracy: 0.4741 - val_loss: 1.0240 - val_accuracy: 0.7148\n",
            "Epoch 64/1000\n",
            "128/129 [============================>.] - ETA: 0s - loss: 1.5656 - accuracy: 0.4713\n",
            "Epoch 64: saving model to model/keypoint_classifier\\keypoint_classifier.hdf5\n",
            "129/129 [==============================] - 0s 3ms/step - loss: 1.5651 - accuracy: 0.4713 - val_loss: 1.0495 - val_accuracy: 0.7178\n",
            "Epoch 65/1000\n",
            "120/129 [==========================>...] - ETA: 0s - loss: 1.5604 - accuracy: 0.4723\n",
            "Epoch 65: saving model to model/keypoint_classifier\\keypoint_classifier.hdf5\n",
            "129/129 [==============================] - 0s 3ms/step - loss: 1.5555 - accuracy: 0.4741 - val_loss: 1.0380 - val_accuracy: 0.7062\n",
            "Epoch 66/1000\n",
            "114/129 [=========================>....] - ETA: 0s - loss: 1.5331 - accuracy: 0.4782\n",
            "Epoch 66: saving model to model/keypoint_classifier\\keypoint_classifier.hdf5\n",
            "129/129 [==============================] - 0s 3ms/step - loss: 1.5367 - accuracy: 0.4787 - val_loss: 1.0399 - val_accuracy: 0.7129\n",
            "Epoch 67/1000\n",
            "117/129 [==========================>...] - ETA: 0s - loss: 1.5426 - accuracy: 0.4738\n",
            "Epoch 67: saving model to model/keypoint_classifier\\keypoint_classifier.hdf5\n",
            "129/129 [==============================] - 0s 3ms/step - loss: 1.5475 - accuracy: 0.4730 - val_loss: 1.0379 - val_accuracy: 0.7128\n",
            "Epoch 68/1000\n",
            "108/129 [========================>.....] - ETA: 0s - loss: 1.5261 - accuracy: 0.4846\n",
            "Epoch 68: saving model to model/keypoint_classifier\\keypoint_classifier.hdf5\n",
            "129/129 [==============================] - 0s 3ms/step - loss: 1.5292 - accuracy: 0.4846 - val_loss: 1.0282 - val_accuracy: 0.7133\n",
            "Epoch 69/1000\n",
            "120/129 [==========================>...] - ETA: 0s - loss: 1.5408 - accuracy: 0.4842\n",
            "Epoch 69: saving model to model/keypoint_classifier\\keypoint_classifier.hdf5\n",
            "129/129 [==============================] - 0s 3ms/step - loss: 1.5381 - accuracy: 0.4841 - val_loss: 1.0365 - val_accuracy: 0.7197\n",
            "Epoch 70/1000\n",
            "120/129 [==========================>...] - ETA: 0s - loss: 1.5322 - accuracy: 0.4836\n",
            "Epoch 70: saving model to model/keypoint_classifier\\keypoint_classifier.hdf5\n",
            "129/129 [==============================] - 0s 3ms/step - loss: 1.5321 - accuracy: 0.4830 - val_loss: 1.0255 - val_accuracy: 0.7111\n",
            "Epoch 71/1000\n",
            "117/129 [==========================>...] - ETA: 0s - loss: 1.5131 - accuracy: 0.4897\n",
            "Epoch 71: saving model to model/keypoint_classifier\\keypoint_classifier.hdf5\n",
            "129/129 [==============================] - 0s 3ms/step - loss: 1.5174 - accuracy: 0.4883 - val_loss: 1.0243 - val_accuracy: 0.7109\n",
            "Epoch 72/1000\n",
            "112/129 [=========================>....] - ETA: 0s - loss: 1.5321 - accuracy: 0.4810\n",
            "Epoch 72: saving model to model/keypoint_classifier\\keypoint_classifier.hdf5\n",
            "129/129 [==============================] - 0s 3ms/step - loss: 1.5408 - accuracy: 0.4788 - val_loss: 1.0357 - val_accuracy: 0.7108\n",
            "Epoch 73/1000\n",
            "126/129 [============================>.] - ETA: 0s - loss: 1.5267 - accuracy: 0.4864\n",
            "Epoch 73: saving model to model/keypoint_classifier\\keypoint_classifier.hdf5\n",
            "129/129 [==============================] - 0s 3ms/step - loss: 1.5247 - accuracy: 0.4868 - val_loss: 1.0087 - val_accuracy: 0.7115\n",
            "Epoch 74/1000\n",
            "119/129 [==========================>...] - ETA: 0s - loss: 1.5259 - accuracy: 0.4818\n",
            "Epoch 74: saving model to model/keypoint_classifier\\keypoint_classifier.hdf5\n",
            "129/129 [==============================] - 0s 3ms/step - loss: 1.5280 - accuracy: 0.4817 - val_loss: 1.0293 - val_accuracy: 0.7098\n",
            "Epoch 75/1000\n",
            "114/129 [=========================>....] - ETA: 0s - loss: 1.5223 - accuracy: 0.4840\n",
            "Epoch 75: saving model to model/keypoint_classifier\\keypoint_classifier.hdf5\n",
            "129/129 [==============================] - 0s 3ms/step - loss: 1.5226 - accuracy: 0.4832 - val_loss: 1.0276 - val_accuracy: 0.7135\n",
            "Epoch 76/1000\n",
            "118/129 [==========================>...] - ETA: 0s - loss: 1.5151 - accuracy: 0.4801\n",
            "Epoch 76: saving model to model/keypoint_classifier\\keypoint_classifier.hdf5\n",
            "129/129 [==============================] - 0s 3ms/step - loss: 1.5123 - accuracy: 0.4816 - val_loss: 1.0239 - val_accuracy: 0.7104\n",
            "Epoch 77/1000\n",
            "106/129 [=======================>......] - ETA: 0s - loss: 1.5132 - accuracy: 0.4875\n",
            "Epoch 77: saving model to model/keypoint_classifier\\keypoint_classifier.hdf5\n",
            "129/129 [==============================] - 0s 3ms/step - loss: 1.5092 - accuracy: 0.4889 - val_loss: 1.0327 - val_accuracy: 0.7058\n",
            "Epoch 78/1000\n",
            "114/129 [=========================>....] - ETA: 0s - loss: 1.5050 - accuracy: 0.4869\n",
            "Epoch 78: saving model to model/keypoint_classifier\\keypoint_classifier.hdf5\n",
            "129/129 [==============================] - 0s 3ms/step - loss: 1.5094 - accuracy: 0.4866 - val_loss: 1.0243 - val_accuracy: 0.7146\n",
            "Epoch 79/1000\n",
            "120/129 [==========================>...] - ETA: 0s - loss: 1.5077 - accuracy: 0.4908\n",
            "Epoch 79: saving model to model/keypoint_classifier\\keypoint_classifier.hdf5\n",
            "129/129 [==============================] - 0s 3ms/step - loss: 1.5071 - accuracy: 0.4912 - val_loss: 1.0221 - val_accuracy: 0.7175\n",
            "Epoch 80/1000\n",
            "118/129 [==========================>...] - ETA: 0s - loss: 1.4921 - accuracy: 0.4948\n",
            "Epoch 80: saving model to model/keypoint_classifier\\keypoint_classifier.hdf5\n",
            "129/129 [==============================] - 0s 3ms/step - loss: 1.4899 - accuracy: 0.4955 - val_loss: 1.0373 - val_accuracy: 0.7044\n",
            "Epoch 81/1000\n",
            "111/129 [========================>.....] - ETA: 0s - loss: 1.5206 - accuracy: 0.4856\n",
            "Epoch 81: saving model to model/keypoint_classifier\\keypoint_classifier.hdf5\n",
            "129/129 [==============================] - 0s 3ms/step - loss: 1.5138 - accuracy: 0.4876 - val_loss: 1.0152 - val_accuracy: 0.7208\n",
            "Epoch 82/1000\n",
            "112/129 [=========================>....] - ETA: 0s - loss: 1.5035 - accuracy: 0.4911\n",
            "Epoch 82: saving model to model/keypoint_classifier\\keypoint_classifier.hdf5\n",
            "129/129 [==============================] - 0s 3ms/step - loss: 1.5014 - accuracy: 0.4910 - val_loss: 1.0329 - val_accuracy: 0.7164\n",
            "Epoch 83/1000\n",
            "126/129 [============================>.] - ETA: 0s - loss: 1.4976 - accuracy: 0.4932\n",
            "Epoch 83: saving model to model/keypoint_classifier\\keypoint_classifier.hdf5\n",
            "129/129 [==============================] - 0s 3ms/step - loss: 1.4999 - accuracy: 0.4928 - val_loss: 1.0179 - val_accuracy: 0.7129\n",
            "Epoch 84/1000\n",
            "120/129 [==========================>...] - ETA: 0s - loss: 1.5082 - accuracy: 0.4872\n",
            "Epoch 84: saving model to model/keypoint_classifier\\keypoint_classifier.hdf5\n",
            "129/129 [==============================] - 0s 3ms/step - loss: 1.5101 - accuracy: 0.4861 - val_loss: 1.0265 - val_accuracy: 0.7111\n",
            "Epoch 85/1000\n",
            "115/129 [=========================>....] - ETA: 0s - loss: 1.4864 - accuracy: 0.4957\n",
            "Epoch 85: saving model to model/keypoint_classifier\\keypoint_classifier.hdf5\n",
            "129/129 [==============================] - 0s 3ms/step - loss: 1.4877 - accuracy: 0.4944 - val_loss: 1.0286 - val_accuracy: 0.6935\n",
            "Epoch 86/1000\n",
            "110/129 [========================>.....] - ETA: 0s - loss: 1.4899 - accuracy: 0.4924\n",
            "Epoch 86: saving model to model/keypoint_classifier\\keypoint_classifier.hdf5\n",
            "129/129 [==============================] - 0s 3ms/step - loss: 1.4907 - accuracy: 0.4917 - val_loss: 1.0382 - val_accuracy: 0.7027\n",
            "Epoch 87/1000\n",
            "106/129 [=======================>......] - ETA: 0s - loss: 1.4932 - accuracy: 0.4968\n",
            "Epoch 87: saving model to model/keypoint_classifier\\keypoint_classifier.hdf5\n",
            "129/129 [==============================] - 0s 3ms/step - loss: 1.4854 - accuracy: 0.4992 - val_loss: 1.0249 - val_accuracy: 0.7018\n",
            "Epoch 88/1000\n",
            "120/129 [==========================>...] - ETA: 0s - loss: 1.4836 - accuracy: 0.4960\n",
            "Epoch 88: saving model to model/keypoint_classifier\\keypoint_classifier.hdf5\n",
            "129/129 [==============================] - 0s 3ms/step - loss: 1.4848 - accuracy: 0.4958 - val_loss: 1.0142 - val_accuracy: 0.7062\n",
            "Epoch 89/1000\n",
            "125/129 [============================>.] - ETA: 0s - loss: 1.4978 - accuracy: 0.4914\n",
            "Epoch 89: saving model to model/keypoint_classifier\\keypoint_classifier.hdf5\n",
            "129/129 [==============================] - 0s 3ms/step - loss: 1.4955 - accuracy: 0.4915 - val_loss: 1.0539 - val_accuracy: 0.7033\n",
            "Epoch 90/1000\n",
            "112/129 [=========================>....] - ETA: 0s - loss: 1.4690 - accuracy: 0.4997\n",
            "Epoch 90: saving model to model/keypoint_classifier\\keypoint_classifier.hdf5\n",
            "129/129 [==============================] - 0s 3ms/step - loss: 1.4712 - accuracy: 0.4997 - val_loss: 1.0442 - val_accuracy: 0.6876\n",
            "Epoch 91/1000\n",
            "123/129 [===========================>..] - ETA: 0s - loss: 1.4771 - accuracy: 0.4970\n",
            "Epoch 91: saving model to model/keypoint_classifier\\keypoint_classifier.hdf5\n",
            "129/129 [==============================] - 0s 3ms/step - loss: 1.4783 - accuracy: 0.4965 - val_loss: 1.0431 - val_accuracy: 0.6904\n",
            "Epoch 92/1000\n",
            "106/129 [=======================>......] - ETA: 0s - loss: 1.4866 - accuracy: 0.4943\n",
            "Epoch 92: saving model to model/keypoint_classifier\\keypoint_classifier.hdf5\n",
            "129/129 [==============================] - 0s 3ms/step - loss: 1.4828 - accuracy: 0.4973 - val_loss: 0.9959 - val_accuracy: 0.7168\n",
            "Epoch 93/1000\n",
            "122/129 [===========================>..] - ETA: 0s - loss: 1.4897 - accuracy: 0.4951\n",
            "Epoch 93: saving model to model/keypoint_classifier\\keypoint_classifier.hdf5\n",
            "129/129 [==============================] - 0s 3ms/step - loss: 1.4860 - accuracy: 0.4952 - val_loss: 1.0084 - val_accuracy: 0.7104\n",
            "Epoch 94/1000\n",
            "110/129 [========================>.....] - ETA: 0s - loss: 1.4736 - accuracy: 0.4960\n",
            "Epoch 94: saving model to model/keypoint_classifier\\keypoint_classifier.hdf5\n",
            "129/129 [==============================] - 0s 3ms/step - loss: 1.4752 - accuracy: 0.4961 - val_loss: 1.0206 - val_accuracy: 0.7091\n",
            "Epoch 95/1000\n",
            "122/129 [===========================>..] - ETA: 0s - loss: 1.4719 - accuracy: 0.4974\n",
            "Epoch 95: saving model to model/keypoint_classifier\\keypoint_classifier.hdf5\n",
            "129/129 [==============================] - 0s 3ms/step - loss: 1.4695 - accuracy: 0.4982 - val_loss: 1.0450 - val_accuracy: 0.6920\n",
            "Epoch 96/1000\n",
            "110/129 [========================>.....] - ETA: 0s - loss: 1.4689 - accuracy: 0.4976\n",
            "Epoch 96: saving model to model/keypoint_classifier\\keypoint_classifier.hdf5\n",
            "129/129 [==============================] - 0s 3ms/step - loss: 1.4684 - accuracy: 0.4968 - val_loss: 1.0186 - val_accuracy: 0.6978\n",
            "Epoch 97/1000\n",
            "126/129 [============================>.] - ETA: 0s - loss: 1.4617 - accuracy: 0.5034\n",
            "Epoch 97: saving model to model/keypoint_classifier\\keypoint_classifier.hdf5\n",
            "129/129 [==============================] - 0s 3ms/step - loss: 1.4610 - accuracy: 0.5033 - val_loss: 1.0296 - val_accuracy: 0.7058\n",
            "Epoch 98/1000\n",
            "129/129 [==============================] - ETA: 0s - loss: 1.4639 - accuracy: 0.5048\n",
            "Epoch 98: saving model to model/keypoint_classifier\\keypoint_classifier.hdf5\n",
            "129/129 [==============================] - 0s 3ms/step - loss: 1.4639 - accuracy: 0.5048 - val_loss: 1.0394 - val_accuracy: 0.6980\n",
            "Epoch 99/1000\n",
            "118/129 [==========================>...] - ETA: 0s - loss: 1.4644 - accuracy: 0.5066\n",
            "Epoch 99: saving model to model/keypoint_classifier\\keypoint_classifier.hdf5\n",
            "129/129 [==============================] - 0s 3ms/step - loss: 1.4638 - accuracy: 0.5054 - val_loss: 1.0219 - val_accuracy: 0.7093\n",
            "Epoch 100/1000\n",
            "114/129 [=========================>....] - ETA: 0s - loss: 1.4654 - accuracy: 0.5064\n",
            "Epoch 100: saving model to model/keypoint_classifier\\keypoint_classifier.hdf5\n",
            "129/129 [==============================] - 0s 3ms/step - loss: 1.4623 - accuracy: 0.5078 - val_loss: 1.0277 - val_accuracy: 0.7113\n",
            "Epoch 101/1000\n",
            "124/129 [===========================>..] - ETA: 0s - loss: 1.4465 - accuracy: 0.5059\n",
            "Epoch 101: saving model to model/keypoint_classifier\\keypoint_classifier.hdf5\n",
            "129/129 [==============================] - 0s 3ms/step - loss: 1.4435 - accuracy: 0.5066 - val_loss: 1.0301 - val_accuracy: 0.7013\n",
            "Epoch 102/1000\n",
            "126/129 [============================>.] - ETA: 0s - loss: 1.4396 - accuracy: 0.5106\n",
            "Epoch 102: saving model to model/keypoint_classifier\\keypoint_classifier.hdf5\n",
            "129/129 [==============================] - 0s 3ms/step - loss: 1.4391 - accuracy: 0.5108 - val_loss: 1.0030 - val_accuracy: 0.7095\n",
            "Epoch 103/1000\n",
            "110/129 [========================>.....] - ETA: 0s - loss: 1.4426 - accuracy: 0.5075\n",
            "Epoch 103: saving model to model/keypoint_classifier\\keypoint_classifier.hdf5\n",
            "129/129 [==============================] - 0s 3ms/step - loss: 1.4422 - accuracy: 0.5083 - val_loss: 1.0448 - val_accuracy: 0.6866\n",
            "Epoch 104/1000\n",
            "122/129 [===========================>..] - ETA: 0s - loss: 1.4608 - accuracy: 0.5056\n",
            "Epoch 104: saving model to model/keypoint_classifier\\keypoint_classifier.hdf5\n",
            "129/129 [==============================] - 0s 3ms/step - loss: 1.4600 - accuracy: 0.5060 - val_loss: 1.0362 - val_accuracy: 0.6997\n",
            "Epoch 105/1000\n",
            "121/129 [===========================>..] - ETA: 0s - loss: 1.4473 - accuracy: 0.5054\n",
            "Epoch 105: saving model to model/keypoint_classifier\\keypoint_classifier.hdf5\n",
            "129/129 [==============================] - 0s 3ms/step - loss: 1.4500 - accuracy: 0.5057 - val_loss: 1.0372 - val_accuracy: 0.6840\n",
            "Epoch 106/1000\n",
            "112/129 [=========================>....] - ETA: 0s - loss: 1.4658 - accuracy: 0.5008\n",
            "Epoch 106: saving model to model/keypoint_classifier\\keypoint_classifier.hdf5\n",
            "129/129 [==============================] - 0s 3ms/step - loss: 1.4664 - accuracy: 0.4997 - val_loss: 1.0351 - val_accuracy: 0.6909\n",
            "Epoch 107/1000\n",
            "115/129 [=========================>....] - ETA: 0s - loss: 1.4368 - accuracy: 0.5054\n",
            "Epoch 107: saving model to model/keypoint_classifier\\keypoint_classifier.hdf5\n",
            "129/129 [==============================] - 0s 3ms/step - loss: 1.4350 - accuracy: 0.5065 - val_loss: 1.0381 - val_accuracy: 0.6896\n",
            "Epoch 108/1000\n",
            "122/129 [===========================>..] - ETA: 0s - loss: 1.4503 - accuracy: 0.5130\n",
            "Epoch 108: saving model to model/keypoint_classifier\\keypoint_classifier.hdf5\n",
            "129/129 [==============================] - 0s 3ms/step - loss: 1.4494 - accuracy: 0.5129 - val_loss: 1.0579 - val_accuracy: 0.6880\n",
            "Epoch 109/1000\n",
            "113/129 [=========================>....] - ETA: 0s - loss: 1.4421 - accuracy: 0.5099\n",
            "Epoch 109: saving model to model/keypoint_classifier\\keypoint_classifier.hdf5\n",
            "129/129 [==============================] - 0s 3ms/step - loss: 1.4460 - accuracy: 0.5105 - val_loss: 1.0606 - val_accuracy: 0.6775\n",
            "Epoch 110/1000\n",
            "115/129 [=========================>....] - ETA: 0s - loss: 1.4517 - accuracy: 0.5135\n",
            "Epoch 110: saving model to model/keypoint_classifier\\keypoint_classifier.hdf5\n",
            "129/129 [==============================] - 0s 3ms/step - loss: 1.4494 - accuracy: 0.5124 - val_loss: 1.0257 - val_accuracy: 0.6927\n",
            "Epoch 111/1000\n",
            "125/129 [============================>.] - ETA: 0s - loss: 1.4374 - accuracy: 0.5117\n",
            "Epoch 111: saving model to model/keypoint_classifier\\keypoint_classifier.hdf5\n",
            "129/129 [==============================] - 0s 3ms/step - loss: 1.4404 - accuracy: 0.5117 - val_loss: 1.0385 - val_accuracy: 0.7082\n",
            "Epoch 112/1000\n",
            "116/129 [=========================>....] - ETA: 0s - loss: 1.4501 - accuracy: 0.5070\n",
            "Epoch 112: saving model to model/keypoint_classifier\\keypoint_classifier.hdf5\n",
            "129/129 [==============================] - 0s 3ms/step - loss: 1.4492 - accuracy: 0.5081 - val_loss: 1.0234 - val_accuracy: 0.6967\n",
            "Epoch 112: early stopping\n"
          ]
        },
        {
          "data": {
            "text/plain": [
              "<keras.callbacks.History at 0x22679686850>"
            ]
          },
          "execution_count": 11,
          "metadata": {},
          "output_type": "execute_result"
        }
      ],
      "source": [
        "model.fit(\n",
        "    X_train,\n",
        "    y_train,\n",
        "    epochs=1000,\n",
        "    batch_size=128,\n",
        "    validation_data=(X_test, y_test),\n",
        "    callbacks=[cp_callback, es_callback]\n",
        ")"
      ]
    },
    {
      "cell_type": "code",
      "execution_count": 12,
      "metadata": {
        "colab": {
          "base_uri": "https://localhost:8080/"
        },
        "id": "pxvb2Y299hE3",
        "outputId": "59eb3185-2e37-4b9e-bc9d-ab1b8ac29b7f"
      },
      "outputs": [
        {
          "name": "stdout",
          "output_type": "stream",
          "text": [
            "43/43 [==============================] - 0s 1ms/step - loss: 1.0234 - accuracy: 0.6967\n"
          ]
        }
      ],
      "source": [
        "# Model evaluation\n",
        "val_loss, val_acc = model.evaluate(X_test, y_test, batch_size=128)"
      ]
    },
    {
      "cell_type": "code",
      "execution_count": 13,
      "metadata": {
        "id": "RBkmDeUW9hE4"
      },
      "outputs": [],
      "source": [
        "# Loading the saved model\n",
        "model = tf.keras.models.load_model(model_save_path)"
      ]
    },
    {
      "cell_type": "code",
      "execution_count": 14,
      "metadata": {
        "colab": {
          "base_uri": "https://localhost:8080/"
        },
        "id": "tFz9Tb0I9hE4",
        "outputId": "1c3b3528-54ae-4ee2-ab04-77429211cbef"
      },
      "outputs": [
        {
          "name": "stdout",
          "output_type": "stream",
          "text": [
            "1/1 [==============================] - 0s 104ms/step\n",
            "[2.64956262e-02 2.64904019e-03 7.04451289e-04 6.82523055e-03\n",
            " 5.45608662e-02 1.44013250e-03 2.47895568e-05 1.37243424e-05\n",
            " 4.88382727e-02 2.12675016e-02 1.11802923e-03 7.67510501e-04\n",
            " 1.15519091e-04 9.76820083e-05 2.67409394e-03 6.56266081e-08\n",
            " 1.85950398e-06 1.21355252e-02 1.93877727e-01 1.15808584e-01\n",
            " 7.93578685e-04 1.39574439e-03 2.57447300e-05 2.86435157e-01\n",
            " 2.00188786e-01 2.17448026e-02]\n",
            "23\n"
          ]
        }
      ],
      "source": [
        "# Inference test\n",
        "predict_result = model.predict(np.array([X_test[0]]))\n",
        "print(np.squeeze(predict_result))\n",
        "print(np.argmax(np.squeeze(predict_result)))"
      ]
    },
    {
      "cell_type": "markdown",
      "metadata": {
        "id": "S3U4yNWx9hE4"
      },
      "source": [
        "# Confusion matrix"
      ]
    },
    {
      "cell_type": "code",
      "execution_count": 15,
      "metadata": {
        "colab": {
          "base_uri": "https://localhost:8080/",
          "height": 582
        },
        "id": "AP1V6SCk9hE5",
        "outputId": "08e41a80-7a4a-4619-8125-ecc371368d19"
      },
      "outputs": [
        {
          "name": "stdout",
          "output_type": "stream",
          "text": [
            "172/172 [==============================] - 0s 1ms/step\n"
          ]
        },
        {
          "data": {
            "image/png": "[encoded data removed]",
            "text/plain": [
              "<Figure size 504x432 with 2 Axes>"
            ]
          },
          "metadata": {
            "needs_background": "light"
          },
          "output_type": "display_data"
        },
        {
          "name": "stdout",
          "output_type": "stream",
          "text": [
            "Classification Report\n",
            "              precision    recall  f1-score   support\n",
            "\n",
            "           0       0.90      0.14      0.24        65\n",
            "           1       0.96      0.55      0.69       211\n",
            "           2       0.62      0.29      0.40       134\n",
            "           3       0.97      0.49      0.65       131\n",
            "           4       0.62      0.03      0.06       150\n",
            "           5       0.92      0.86      0.89       169\n",
            "           6       0.98      0.97      0.97       159\n",
            "           7       0.93      0.95      0.94       170\n",
            "           8       0.88      0.34      0.49       183\n",
            "           9       0.91      0.99      0.95       229\n",
            "          10       0.00      0.00      0.00       232\n",
            "          11       0.96      1.00      0.98       142\n",
            "          12       0.65      0.75      0.70       130\n",
            "          13       0.61      0.43      0.50        94\n",
            "          14       0.61      0.83      0.70       147\n",
            "          15       0.76      0.90      0.82       202\n",
            "          16       0.89      0.97      0.93       225\n",
            "          17       0.59      0.16      0.25       247\n",
            "          18       0.57      0.37      0.45       266\n",
            "          19       0.78      0.98      0.87       232\n",
            "          20       0.00      0.00      0.00       261\n",
            "          21       0.37      0.97      0.54       417\n",
            "          22       0.99      0.97      0.98       350\n",
            "          23       0.65      0.97      0.78       425\n",
            "          24       0.62      1.00      0.77       309\n",
            "          25       0.75      0.99      0.85       217\n",
            "\n",
            "    accuracy                           0.70      5497\n",
            "   macro avg       0.71      0.65      0.63      5497\n",
            "weighted avg       0.68      0.70      0.64      5497\n",
            "\n"
          ]
        },
        {
          "name": "stderr",
          "output_type": "stream",
          "text": [
            "c:\\Users\\Chidi\\anaconda3\\lib\\site-packages\\sklearn\\metrics\\_classification.py:1318: UndefinedMetricWarning: Precision and F-score are ill-defined and being set to 0.0 in labels with no predicted samples. Use `zero_division` parameter to control this behavior.\n",
            "  _warn_prf(average, modifier, msg_start, len(result))\n",
            "c:\\Users\\Chidi\\anaconda3\\lib\\site-packages\\sklearn\\metrics\\_classification.py:1318: UndefinedMetricWarning: Precision and F-score are ill-defined and being set to 0.0 in labels with no predicted samples. Use `zero_division` parameter to control this behavior.\n",
            "  _warn_prf(average, modifier, msg_start, len(result))\n",
            "c:\\Users\\Chidi\\anaconda3\\lib\\site-packages\\sklearn\\metrics\\_classification.py:1318: UndefinedMetricWarning: Precision and F-score are ill-defined and being set to 0.0 in labels with no predicted samples. Use `zero_division` parameter to control this behavior.\n",
            "  _warn_prf(average, modifier, msg_start, len(result))\n"
          ]
        }
      ],
      "source": [
        "import pandas as pd\n",
        "import seaborn as sns\n",
        "import matplotlib.pyplot as plt\n",
        "from sklearn.metrics import confusion_matrix, classification_report\n",
        "\n",
        "def print_confusion_matrix(y_true, y_pred, report=True):\n",
        "    labels = sorted(list(set(y_true)))\n",
        "    cmx_data = confusion_matrix(y_true, y_pred, labels=labels)\n",
        "    \n",
        "    df_cmx = pd.DataFrame(cmx_data, index=labels, columns=labels)\n",
        " \n",
        "    fig, ax = plt.subplots(figsize=(7, 6))\n",
        "    sns.heatmap(df_cmx, annot=True, fmt='g' ,square=False)\n",
        "    ax.set_ylim(len(set(y_true)), 0)\n",
        "    plt.show()\n",
        "    \n",
        "    if report:\n",
        "        print('Classification Report')\n",
        "        print(classification_report(y_test, y_pred))\n",
        "\n",
        "Y_pred = model.predict(X_test)\n",
        "y_pred = np.argmax(Y_pred, axis=1)\n",
        "\n",
        "print_confusion_matrix(y_test, y_pred)"
      ]
    },
    {
      "cell_type": "markdown",
      "metadata": {
        "id": "FNP6aqzc9hE5"
      },
      "source": [
        "# Convert to model for Tensorflow-Lite"
      ]
    },
    {
      "cell_type": "code",
      "execution_count": 16,
      "metadata": {
        "id": "ODjnYyld9hE6"
      },
      "outputs": [],
      "source": [
        "# Save as a model dedicated to inference\n",
        "model.save(model_save_path, include_optimizer=False)"
      ]
    },
    {
      "cell_type": "code",
      "execution_count": 17,
      "metadata": {
        "colab": {
          "base_uri": "https://localhost:8080/"
        },
        "id": "zRfuK8Y59hE6",
        "outputId": "a4ca585c-b5d5-4244-8291-8674063209bb"
      },
      "outputs": [
        {
          "name": "stdout",
          "output_type": "stream",
          "text": [
            "INFO:tensorflow:Assets written to: C:\\Users\\Chidi\\AppData\\Local\\Temp\\tmp1yunnvww\\assets\n"
          ]
        },
        {
          "data": {
            "text/plain": [
              "7456"
            ]
          },
          "execution_count": 17,
          "metadata": {},
          "output_type": "execute_result"
        }
      ],
      "source": [
        "# Transform model (quantization)\n",
        "\n",
        "converter = tf.lite.TFLiteConverter.from_keras_model(model)\n",
        "converter.optimizations = [tf.lite.Optimize.DEFAULT]\n",
        "tflite_quantized_model = converter.convert()\n",
        "\n",
        "open(tflite_save_path, 'wb').write(tflite_quantized_model)"
      ]
    },
    {
      "cell_type": "markdown",
      "metadata": {
        "id": "CHBPBXdx9hE6"
      },
      "source": [
        "# Inference test"
      ]
    },
    {
      "cell_type": "code",
      "execution_count": 18,
      "metadata": {
        "id": "mGAzLocO9hE7"
      },
      "outputs": [],
      "source": [
        "interpreter = tf.lite.Interpreter(model_path=tflite_save_path)\n",
        "interpreter.allocate_tensors()"
      ]
    },
    {
      "cell_type": "code",
      "execution_count": 19,
      "metadata": {
        "id": "oQuDK8YS9hE7"
      },
      "outputs": [],
      "source": [
        "# Get I / O tensor\n",
        "input_details = interpreter.get_input_details()\n",
        "output_details = interpreter.get_output_details()"
      ]
    },
    {
      "cell_type": "code",
      "execution_count": 20,
      "metadata": {
        "id": "2_ixAf_l9hE7"
      },
      "outputs": [],
      "source": [
        "interpreter.set_tensor(input_details[0]['index'], np.array([X_test[0]]))"
      ]
    },
    {
      "cell_type": "code",
      "execution_count": 21,
      "metadata": {
        "colab": {
          "base_uri": "https://localhost:8080/"
        },
        "id": "s4FoAnuc9hE7",
        "outputId": "91f18257-8d8b-4ef3-c558-e9b5f94fabbf",
        "scrolled": true
      },
      "outputs": [
        {
          "name": "stdout",
          "output_type": "stream",
          "text": [
            "CPU times: total: 0 ns\n",
            "Wall time: 0 ns\n"
          ]
        }
      ],
      "source": [
        "%%time\n",
        "# Inference implementation\n",
        "interpreter.invoke()\n",
        "tflite_results = interpreter.get_tensor(output_details[0]['index'])"
      ]
    },
    {
      "cell_type": "code",
      "execution_count": 22,
      "metadata": {
        "colab": {
          "base_uri": "https://localhost:8080/"
        },
        "id": "vONjp19J9hE8",
        "outputId": "77205e24-fd00-42c4-f7b6-e06e527c2cba"
      },
      "outputs": [
        {
          "name": "stdout",
          "output_type": "stream",
          "text": [
            "[2.64956355e-02 2.64903717e-03 7.04450940e-04 6.82522776e-03\n",
            " 5.45609035e-02 1.44013250e-03 2.47894932e-05 1.37243223e-05\n",
            " 4.88382503e-02 2.12674886e-02 1.11802761e-03 7.67509395e-04\n",
            " 1.15518968e-04 9.76818701e-05 2.67409626e-03 6.56263879e-08\n",
            " 1.85949921e-06 1.21355150e-02 1.93877846e-01 1.15808584e-01\n",
            " 7.93576648e-04 1.39574101e-03 2.57447173e-05 2.86435008e-01\n",
            " 2.00188726e-01 2.17447951e-02]\n",
            "23\n"
          ]
        }
      ],
      "source": [
        "print(np.squeeze(tflite_results))\n",
        "print(np.argmax(np.squeeze(tflite_results)))"
      ]
    }
  ],
  "metadata": {
    "accelerator": "GPU",
    "colab": {
      "collapsed_sections": [],
      "name": "keypoint_classification_EN.ipynb",
      "provenance": [],
      "toc_visible": true
    },
    "interpreter": {
      "hash": "ccfcfafe4de06d90b638efe01cd2dcbc0ad744caa2fe07ea3fd73c1fd7c76f6e"
    },
    "kernelspec": {
      "display_name": "Python 3.9.12 ('base')",
      "language": "python",
      "name": "python3"
    },
    "language_info": {
      "codemirror_mode": {
        "name": "ipython",
        "version": 3
      },
      "file_extension": ".py",
      "mimetype": "text/x-python",
      "name": "python",
      "nbconvert_exporter": "python",
      "pygments_lexer": "ipython3",
      "version": "3.9.12"
    }
  },
  "nbformat": 4,
  "nbformat_minor": 0
}
